{
 "cells": [
  {
   "cell_type": "code",
   "execution_count": 1,
   "metadata": {},
   "outputs": [],
   "source": [
    "import numpy as np \n",
    "import matplotlib as mpl\n",
    "import matplotlib.pyplot as plt \n",
    "from sklearn.datasets import make_classification\n",
    "import glob\n",
    "import pandas as pd\n",
    "from sklearn.neural_network import MLPClassifier as NN\n",
    "from sklearn.ensemble import RandomForestClassifier as RF\n",
    "from sklearn.gaussian_process import GaussianProcessClassifier as GP\n",
    "from sklearn.gaussian_process.kernels import RBF\n",
    "from sklearn.model_selection import train_test_split\n",
    "from sklearn.linear_model import LogisticRegression, Lasso\n",
    "from sklearn.svm import SVC"
   ]
  },
  {
   "cell_type": "code",
   "execution_count": 2,
   "metadata": {},
   "outputs": [],
   "source": [
    "def getData(fileText):\n",
    "    #Get the data text sorted out\n",
    "    column1 = []\n",
    "    column2 = []\n",
    "    for row in fileText.splitlines():\n",
    "        if(row[7]!=\" \"):\n",
    "            column1.append(row[7:15])\n",
    "            column2.append(row[20:38])\n",
    "    column1 = column1[10:310]\n",
    "    column2 = column2[10:310]\n",
    "    #Convert to numerical data     \n",
    "    column1_num = pd.to_numeric(column1)\n",
    "    column2_num = pd.to_numeric(column2)\n",
    "    return column2_num"
   ]
  },
  {
   "cell_type": "code",
   "execution_count": 3,
   "metadata": {},
   "outputs": [],
   "source": [
    "class Classifier:\n",
    "    def __init__(self, X, y):\n",
    "        X_train, X_test, y_train, y_test = train_test_split(X, y, test_size=0.10, random_state=42)\n",
    "        self.X_train = X_train\n",
    "        self.X_test = X_test\n",
    "        self.y_train = y_train\n",
    "        self.y_test = y_test\n",
    "    def NNClassify(self):\n",
    "        clf = NN(solver='adam', activation='relu', alpha=0.0001, learning_rate_init=0.001, max_iter=500, random_state=42)\n",
    "        clf.fit(self.X_train, self.y_train)\n",
    "        print(\"Accuracy:\", clf.score(self.X_test, self.y_test))\n",
    "        return clf.predict(self.X_test)\n",
    "    def RFClassify(self):\n",
    "        clf = RF(n_estimators=10, criterion='entropy', random_state=42)\n",
    "        clf.fit(self.X_train, self.y_train)\n",
    "        print(\"Accuracy:\", clf.score(self.X_test, self.y_test))\n",
    "        return clf.predict(self.X_test)\n",
    "    def GPClassify(self):\n",
    "        rbfkernel = 1.0 * RBF(1.0)\n",
    "        clf = GP(rbfkernel)\n",
    "        clf.fit(self.X_train, self.y_train)\n",
    "        print(\"Accuracy:\", clf.score(self.X_test, self.y_test))\n",
    "        return clf.predict(self.X_test)\n",
    "    def LRClassify(self):\n",
    "        clf = LogisticRegression(random_state=42)\n",
    "        clf.fit(self.X_train, self.y_train)\n",
    "        print(\"Accuracy:\", clf.score(self.X_test, self.y_test))\n",
    "        return clf.predict(self.X_test)\n",
    "    def SVClassify(self):\n",
    "        clf = SVC(kernel='rbf', degree=3, max_iter=-1)\n",
    "        clf.fit(self.X_train, self.y_train)\n",
    "        print(\"Accuracy:\", clf.score(self.X_test, self.y_test))\n",
    "        return clf.predict(self.X_test)"
   ]
  },
  {
   "cell_type": "code",
   "execution_count": 57,
   "metadata": {},
   "outputs": [
    {
     "name": "stdout",
     "output_type": "stream",
     "text": [
      "Accuracy: 0.8\n",
      "Accuracy: 1.0\n",
      "Accuracy: 0.8\n",
      "Accuracy: 0.8\n",
      "Accuracy: 1.0\n"
     ]
    },
    {
     "data": {
      "text/plain": [
       "array([1, 1, 1, 0, 0, 0, 0, 0, 0, 0])"
      ]
     },
     "execution_count": 57,
     "metadata": {},
     "output_type": "execute_result"
    }
   ],
   "source": [
    "#Dummy data test\n",
    "X, y = make_classification(random_state=42)\n",
    "c = Classifier(X, y)\n",
    "c.NNClassify()\n",
    "c.RFClassify()\n",
    "c.GPClassify()\n",
    "c.LRClassify()\n",
    "c.SVClassify()"
   ]
  },
  {
   "cell_type": "code",
   "execution_count": 4,
   "metadata": {},
   "outputs": [],
   "source": [
    "amorph = \"/Users/johnrussell/Desktop/Titanium-Classification-Data/Amorphous Type 1 Titanium Edge/*.nor\"\n",
    "rutile = \"/Users/johnrussell/Desktop/Titanium-Classification-Data/Rutile Type 2 Titanium/*.nor\"\n",
    "xdata = []\n",
    "labels = []\n",
    "num = 0\n",
    "#Get data from all the files\n",
    "for file in glob.glob(amorph):\n",
    "    #print(num, file[file.index('XAFS'):]+\"\\n\")\n",
    "    num = num + 1\n",
    "    fileCSV = pd.read_csv(file, skiprows=37)\n",
    "    fileString = fileCSV.to_string()\n",
    "    xdata.append(getData(fileString)[0])\n",
    "    labels.append(0)\n",
    "\n",
    "for file in glob.glob(rutile):\n",
    "    #print(num, file[file.index('XAFS'):]+\"\\n\")\n",
    "    num = num + 1\n",
    "    fileCSV = pd.read_csv(file, skiprows=37)\n",
    "    #print(fileCSV)\n",
    "    fileString = fileCSV.to_string()\n",
    "    xdata.append(getData(fileString)[0])\n",
    "    labels.append(1)\n",
    "    "
   ]
  },
  {
   "cell_type": "code",
   "execution_count": 5,
   "metadata": {},
   "outputs": [
    {
     "name": "stdout",
     "output_type": "stream",
     "text": [
      "Accuracy: 0.5789473684210527\n",
      "[0 0 1 0 0 1 0 0 0 0 1 1 0 0 0 1 1 0 0]\n",
      "Accuracy: 0.7368421052631579\n",
      "[1 0 1 0 1 0 0 0 0 0 1 1 0 1 0 0 1 0 0]\n",
      "Accuracy: 0.5263157894736842\n",
      "[0 0 0 0 1 1 0 0 0 0 0 1 0 0 0 1 1 0 0]\n",
      "Accuracy: 0.5789473684210527\n",
      "[0 0 0 0 0 0 0 0 0 0 0 0 0 0 0 0 0 0 0]\n",
      "Accuracy: 0.5263157894736842\n",
      "[0 0 0 0 1 1 0 0 0 0 0 1 0 0 0 1 1 0 0]\n"
     ]
    }
   ],
   "source": [
    "xdata = np.array(xdata, dtype=float).reshape(-1, 1)\n",
    "cl = Classifier(xdata, labels)\n",
    "print(cl.NNClassify())\n",
    "print(cl.RFClassify())\n",
    "print(cl.GPClassify())\n",
    "print(cl.LRClassify())\n",
    "print(cl.SVClassify())"
   ]
  },
  {
   "cell_type": "code",
   "execution_count": null,
   "metadata": {},
   "outputs": [],
   "source": []
  }
 ],
 "metadata": {
  "kernelspec": {
   "display_name": "Python 3",
   "language": "python",
   "name": "python3"
  },
  "language_info": {
   "codemirror_mode": {
    "name": "ipython",
    "version": 3
   },
   "file_extension": ".py",
   "mimetype": "text/x-python",
   "name": "python",
   "nbconvert_exporter": "python",
   "pygments_lexer": "ipython3",
   "version": "3.7.0"
  }
 },
 "nbformat": 4,
 "nbformat_minor": 4
}
