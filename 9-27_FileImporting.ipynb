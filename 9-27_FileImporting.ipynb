{
 "cells": [
  {
   "cell_type": "code",
   "execution_count": null,
   "metadata": {},
   "outputs": [],
   "source": [
    "import random \n",
    "import numpy as np \n",
    "import matplotlib as mpl\n",
    "import matplotlib.pyplot as plt \n",
    "import matplotlib.figure\n",
    "import matplotlib.lines as mlines\n",
    "import seaborn as sns\n",
    "from sklearn.cluster import KMeans, DBSCAN, AgglomerativeClustering, SpectralClustering\n",
    "from sklearn.datasets import make_blobs \n",
    "from scipy.spatial import distance_matrix, distance\n",
    "from scipy.cluster import hierarchy \n",
    "import glob\n",
    "import pandas as pd\n",
    "from sklearn.preprocessing import StandardScaler \n",
    "import warnings\n",
    "warnings.filterwarnings(\"ignore\")\n",
    "%matplotlib inline"
   ]
  },
  {
   "cell_type": "code",
   "execution_count": 75,
   "metadata": {},
   "outputs": [],
   "source": [
    "path = \"/Users/johnrussell/Desktop/Ti-Dataset-Fixed/Ti4Mn1Ox_400_2hr_Ar_Ti.nor.nor.nor\""
   ]
  },
  {
   "cell_type": "code",
   "execution_count": 157,
   "metadata": {},
   "outputs": [
    {
     "name": "stdout",
     "output_type": "stream",
     "text": [
      "Index(['#e', 'norm', 'nbkg', 'flat', 'fbkg', 'nder', 'nsec'], dtype='object')\n"
     ]
    }
   ],
   "source": [
    "#fileCSV = pd.read_csv(path, skiprows=37, header=0, delimiter='     ')\n",
    "fileCSV = pd.read_csv(path, skiprows=38, names=['#e', 'norm', 'nbkg', 'flat', 'fbkg', 'nder', 'nsec'])\n",
    "print(fileCSV.columns)\n",
    "#fileCSV.columns = ['#e', 'norm', 'nbkg', 'flat', 'fbkg', 'nder', 'nsec']"
   ]
  },
  {
   "cell_type": "code",
   "execution_count": 162,
   "metadata": {},
   "outputs": [
    {
     "name": "stdout",
     "output_type": "stream",
     "text": [
      "                                                  #e  norm\n",
      "0    4901.8197       0.14639941E-01   0.14639941E...   NaN\n",
      "1    4905.8197       0.79500527E-02   0.79500531E...   NaN\n",
      "2    4909.8197       0.16244570E-02   0.16244571E...   NaN\n",
      "3    4913.8197      -0.19820110E-02  -0.19820111E...   NaN\n",
      "4    4917.8197      -0.66992049E-02  -0.66992052E...   NaN\n"
     ]
    }
   ],
   "source": [
    "df = pd.DataFrame(fileCSV)\n",
    "#print(df.head())\n",
    "df = df[['#e','norm']]\n",
    "print(df.head())"
   ]
  },
  {
   "cell_type": "code",
   "execution_count": null,
   "metadata": {},
   "outputs": [],
   "source": []
  }
 ],
 "metadata": {
  "kernelspec": {
   "display_name": "Python 3",
   "language": "python",
   "name": "python3"
  },
  "language_info": {
   "codemirror_mode": {
    "name": "ipython",
    "version": 3
   },
   "file_extension": ".py",
   "mimetype": "text/x-python",
   "name": "python",
   "nbconvert_exporter": "python",
   "pygments_lexer": "ipython3",
   "version": "3.7.0"
  }
 },
 "nbformat": 4,
 "nbformat_minor": 4
}
